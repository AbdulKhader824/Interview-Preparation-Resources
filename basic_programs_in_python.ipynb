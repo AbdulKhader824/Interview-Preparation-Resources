{
 "cells": [
  {
   "cell_type": "markdown",
   "metadata": {},
   "source": [
    "Write a Python program to count the occurrences of each element in a list"
   ]
  },
  {
   "cell_type": "code",
   "execution_count": null,
   "metadata": {},
   "outputs": [],
   "source": [
    "a=int(input(\"enter number of elements\"))\n",
    "l=[]\n",
    "for i in range(a):\n",
    "    \n",
    "    temp=int(input(f\"enter element {i}\"))\n",
    "    l.append(temp)\n",
    "d={}\n",
    "for i in range(a):\n",
    "    if l[i] not in d.keys():\n",
    "        d[l[i]]=1\n",
    "    else:\n",
    "        d[l[i]]+=1\n",
    "print(d)"
   ]
  },
  {
   "cell_type": "markdown",
   "metadata": {},
   "source": [
    "Write a Python program to check if a string is a palindrome.\n"
   ]
  },
  {
   "cell_type": "code",
   "execution_count": 3,
   "metadata": {},
   "outputs": [
    {
     "name": "stdout",
     "output_type": "stream",
     "text": [
      "not palindrome\n"
     ]
    }
   ],
   "source": [
    "a=input(\"enter a string\")\n",
    "if(a==a[::-1]):\n",
    "    print(\"palindrom\")\n",
    "else:\n",
    "    print(\"not palindrome\")"
   ]
  },
  {
   "cell_type": "markdown",
   "metadata": {},
   "source": [
    "Write a Python function to calculate the factorial of a number.\n"
   ]
  },
  {
   "cell_type": "code",
   "execution_count": 6,
   "metadata": {},
   "outputs": [
    {
     "name": "stdout",
     "output_type": "stream",
     "text": [
      "6\n"
     ]
    }
   ],
   "source": [
    "n=int(input(\"enter a number?\"))\n",
    "f=1\n",
    "if(n==0):\n",
    "    print(n)\n",
    "else:\n",
    "    for i in range(2,n+1):\n",
    "        f=f*i\n",
    "    print(f)\n"
   ]
  },
  {
   "cell_type": "markdown",
   "metadata": {},
   "source": [
    "Write a Python program to find the second largest number in a list.\n"
   ]
  },
  {
   "cell_type": "code",
   "execution_count": 7,
   "metadata": {},
   "outputs": [
    {
     "name": "stdout",
     "output_type": "stream",
     "text": [
      "4\n"
     ]
    }
   ],
   "source": [
    "a=int(input(\"enter number of elements\"))\n",
    "l=[]\n",
    "for i in range(a):\n",
    "    \n",
    "    temp=int(input(f\"enter element {i}\"))\n",
    "    l.append(temp)\n",
    "l.sort()\n",
    "print(l[a-2])"
   ]
  },
  {
   "cell_type": "markdown",
   "metadata": {},
   "source": [
    "Write a Python program to print the Fibonacci sequence up to n terms.\n"
   ]
  },
  {
   "cell_type": "code",
   "execution_count": 8,
   "metadata": {},
   "outputs": [
    {
     "name": "stdout",
     "output_type": "stream",
     "text": [
      "0\n",
      "1\n",
      "1\n",
      "2\n",
      "3\n"
     ]
    }
   ],
   "source": [
    "n=int(input(\"enter number of terms?\"))\n",
    "a=0\n",
    "b=1\n",
    "print(a)\n",
    "print(b)\n",
    "for i in range(n-2):\n",
    "    c=a+b\n",
    "    print(c)\n",
    "    a=b\n",
    "    b=c"
   ]
  },
  {
   "cell_type": "markdown",
   "metadata": {},
   "source": [
    "Write a Python program to remove all duplicates from a list.\n"
   ]
  },
  {
   "cell_type": "code",
   "execution_count": 13,
   "metadata": {},
   "outputs": [
    {
     "name": "stdout",
     "output_type": "stream",
     "text": [
      "[1, 2, 3, 4, 5]\n"
     ]
    }
   ],
   "source": [
    "a=int(input(\"enter number of elements\"))\n",
    "l=[]\n",
    "for i in range(a):\n",
    "    \n",
    "    temp=int(input(f\"enter element {i}\"))\n",
    "    l.append(temp)\n",
    "i=0\n",
    "while i<len(l):\n",
    "    if l[i] in l[i+1:]:\n",
    "        l.remove(l[i])\n",
    "    else:\n",
    "        i+=1\n",
    "\n",
    "print(l)\n",
    "        \n"
   ]
  },
  {
   "cell_type": "markdown",
   "metadata": {},
   "source": [
    "Write a Python program to check if a number is prime.\n"
   ]
  },
  {
   "cell_type": "code",
   "execution_count": 17,
   "metadata": {},
   "outputs": [
    {
     "name": "stdout",
     "output_type": "stream",
     "text": [
      "its a prime\n"
     ]
    }
   ],
   "source": [
    "n=int(input(\"enter the number?\"))\n",
    "a=int(n/2)\n",
    "f=0\n",
    "for i in range(2,a):\n",
    "    if(n%i==0):\n",
    "        print(\"not a prime\")\n",
    "        f=1\n",
    "        break\n",
    "if(f==0):\n",
    "    print(\"its a prime\")"
   ]
  },
  {
   "cell_type": "markdown",
   "metadata": {},
   "source": [
    "Write a Python program to find the intersection of two lists.\n"
   ]
  },
  {
   "cell_type": "code",
   "execution_count": 19,
   "metadata": {},
   "outputs": [
    {
     "name": "stdout",
     "output_type": "stream",
     "text": [
      "[3, 4, 5, 6]\n"
     ]
    }
   ],
   "source": [
    "a=[1,2,3,4,5,6]\n",
    "b=[5,6,4,3,7,8]\n",
    "c=[]\n",
    "for i in range(len(a)):\n",
    "    if a[i] in b:\n",
    "        c.append(a[i])\n",
    "print(c)"
   ]
  },
  {
   "cell_type": "markdown",
   "metadata": {},
   "source": [
    "Write a Python program to find the sum of digits of an integer."
   ]
  },
  {
   "cell_type": "code",
   "execution_count": 20,
   "metadata": {},
   "outputs": [
    {
     "name": "stdout",
     "output_type": "stream",
     "text": [
      "6\n"
     ]
    }
   ],
   "source": [
    "n=int(input(\"enter a number?\"))\n",
    "s=0\n",
    "while(n!=0):\n",
    "    r=n%10\n",
    "    s+=r\n",
    "    n=int(n/10)\n",
    "print(s)"
   ]
  },
  {
   "cell_type": "markdown",
   "metadata": {},
   "source": [
    "Write a Python function to find the GCD (Greatest Common Divisor) of two numbers.\n"
   ]
  },
  {
   "cell_type": "code",
   "execution_count": 22,
   "metadata": {},
   "outputs": [
    {
     "name": "stdout",
     "output_type": "stream",
     "text": [
      "2\n"
     ]
    }
   ],
   "source": [
    "a=int(input(\"enter the first intieger?\"))\n",
    "b=int(input(\"enter the second intiger?\"))\n",
    "c=min(a,b)\n",
    "for i in range(c+1,-1,-1):\n",
    "    if(a%i==0 and b%i==0):\n",
    "        print(i)\n",
    "        break"
   ]
  },
  {
   "cell_type": "markdown",
   "metadata": {},
   "source": [
    "Write a Python function to check if two strings are anagrams of each other.\n"
   ]
  },
  {
   "cell_type": "code",
   "execution_count": 26,
   "metadata": {},
   "outputs": [
    {
     "name": "stdout",
     "output_type": "stream",
     "text": [
      "anagram\n"
     ]
    }
   ],
   "source": [
    "s1 = input(\"Enter the first string: \")\n",
    "s2 = input(\"Enter the second string: \")\n",
    "f = 0\n",
    "\n",
    "# Check if the lengths of the strings are different\n",
    "if len(s1) != len(s2):\n",
    "    print(\"Not an anagram\")\n",
    "else:\n",
    "    # Create a dictionary to count occurrences of characters\n",
    "    char_count = {}\n",
    "\n",
    "    # Count characters in the first string\n",
    "    for char in s1:\n",
    "        char_count[char] = char_count.get(char, 0) + 1\n",
    "\n",
    "    # Decrease the count for characters found in the second string\n",
    "    for char in s2:\n",
    "        if char in char_count:\n",
    "            char_count[char] -= 1\n",
    "        else:\n",
    "            print(\"Not an anagram\")\n",
    "            f = 1\n",
    "            break\n",
    "\n",
    "    # Check if all counts are zero\n",
    "    if f == 0 and all(count == 0 for count in char_count.values()):\n",
    "        print(\"Anagram\")\n",
    "    elif f == 0:\n",
    "        print(\"Not an anagram\")\n"
   ]
  },
  {
   "cell_type": "markdown",
   "metadata": {},
   "source": [
    "Write a Python program to merge two sorted lists into one sorted list.\n"
   ]
  },
  {
   "cell_type": "code",
   "execution_count": 29,
   "metadata": {},
   "outputs": [
    {
     "name": "stdout",
     "output_type": "stream",
     "text": [
      "[1, 2, 2, 3, 3, 4, 4, 5]\n"
     ]
    }
   ],
   "source": [
    "s1=[1,2,3,4,5]\n",
    "s2=[2,3,4]\n",
    "m=len(s1)\n",
    "n=len(s2)\n",
    "i=0\n",
    "j=0\n",
    "s=[]\n",
    "while(i<m and j<n):\n",
    "    if(s1[i]<=s2[j]):\n",
    "        s.append(s1[i])\n",
    "        i+=1\n",
    "    else:\n",
    "        s.append(s2[j])\n",
    "        j+=1\n",
    "if(i<m):\n",
    "    for k in range(i,m):\n",
    "        s.append(s1[i])\n",
    "if(j<n):\n",
    "    for k in range(j,n):\n",
    "        s.append(s2[j])\n",
    "print(s)"
   ]
  },
  {
   "cell_type": "markdown",
   "metadata": {},
   "source": [
    "Write a Python function to return the sum of all even numbers in a list.\n"
   ]
  },
  {
   "cell_type": "code",
   "execution_count": 30,
   "metadata": {},
   "outputs": [
    {
     "name": "stdout",
     "output_type": "stream",
     "text": [
      "2\n",
      "4\n",
      "6\n"
     ]
    }
   ],
   "source": [
    "a=[1,2,3,4,5,6,7]\n",
    "for i in a:\n",
    "    if(i%2==0):\n",
    "        print(i)"
   ]
  },
  {
   "cell_type": "markdown",
   "metadata": {},
   "source": [
    "Write a Python program to flatten a nested list (a list of lists).\n"
   ]
  },
  {
   "cell_type": "code",
   "execution_count": 31,
   "metadata": {},
   "outputs": [
    {
     "name": "stdout",
     "output_type": "stream",
     "text": [
      "[1, 2, 3, 4, 5, 6, 7, 8, 9]\n"
     ]
    }
   ],
   "source": [
    "def flatten_list(nested_list):\n",
    "    flattened = []\n",
    "    for item in nested_list:\n",
    "        if isinstance(item, list):\n",
    "            flattened.extend(flatten_list(item))  # Recursion for nested lists\n",
    "        else:\n",
    "            flattened.append(item)\n",
    "    return flattened\n",
    "\n",
    "# Example usage\n",
    "nested_list = [[1, 2, [3, 4]], [5, 6], [7, [8, 9]]]\n",
    "flat_list = flatten_list(nested_list)\n",
    "print(flat_list)  # Output: [1, 2, 3, 4, 5, 6, 7, 8, 9]\n"
   ]
  },
  {
   "cell_type": "markdown",
   "metadata": {},
   "source": [
    "Write a Python function to find the longest word in a list of strings.\n"
   ]
  },
  {
   "cell_type": "code",
   "execution_count": 32,
   "metadata": {},
   "outputs": [
    {
     "name": "stdout",
     "output_type": "stream",
     "text": [
      "The longest word is: 'elderberry'\n"
     ]
    }
   ],
   "source": [
    "def find_longest_word(words):\n",
    "    if not words:  # Check if the list is empty\n",
    "        return None\n",
    "    \n",
    "    longest_word = \"\"  # Initialize an empty string to hold the longest word\n",
    "\n",
    "    for word in words:\n",
    "        if len(word) > len(longest_word):  # Compare lengths\n",
    "            longest_word = word  # Update longest_word if a longer word is found\n",
    "    \n",
    "    return longest_word  # Return the longest word found\n",
    "\n",
    "# Example usage\n",
    "words_list = [\"apple\", \"banana\", \"cherry\", \"date\", \"elderberry\"]\n",
    "longest = find_longest_word(words_list)\n",
    "print(f\"The longest word is: '{longest}'\")  # Output: The longest word is: 'elderberry'\n"
   ]
  },
  {
   "cell_type": "markdown",
   "metadata": {},
   "source": [
    "Write a Python program to find all pairs of integers in a list whose sum is equal to a given target.\n"
   ]
  },
  {
   "cell_type": "code",
   "execution_count": 35,
   "metadata": {},
   "outputs": [
    {
     "name": "stdout",
     "output_type": "stream",
     "text": [
      "1 5\n",
      "2 4\n"
     ]
    }
   ],
   "source": [
    "a=[1,2,3,4,5,6]\n",
    "target=6\n",
    "for i in range(len(a)):\n",
    "    for j in range(i+1,len(a)):\n",
    "        if(a[i]+a[j]==target):\n",
    "            print(a[i],a[j])\n"
   ]
  },
  {
   "cell_type": "markdown",
   "metadata": {},
   "source": [
    "Write a Python program to sort a list of dictionaries by a specific key"
   ]
  },
  {
   "cell_type": "code",
   "execution_count": 36,
   "metadata": {},
   "outputs": [
    {
     "name": "stdout",
     "output_type": "stream",
     "text": [
      "Sorted list of dictionaries by age:\n",
      "{'name': 'Bob', 'age': 25}\n",
      "{'name': 'Alice', 'age': 30}\n",
      "{'name': 'Charlie', 'age': 35}\n"
     ]
    }
   ],
   "source": [
    "# Sample list of dictionaries\n",
    "people = [\n",
    "    {\"name\": \"Alice\", \"age\": 30},\n",
    "    {\"name\": \"Bob\", \"age\": 25},\n",
    "    {\"name\": \"Charlie\", \"age\": 35}\n",
    "]\n",
    "\n",
    "# Sorting the list of dictionaries by the \"age\" key\n",
    "sorted_people = sorted(people, key=lambda x: x['age'])\n",
    "\n",
    "# Printing the sorted list\n",
    "print(\"Sorted list of dictionaries by age:\")\n",
    "for person in sorted_people:\n",
    "    print(person)\n"
   ]
  }
 ],
 "metadata": {
  "kernelspec": {
   "display_name": "asr-dysarthria",
   "language": "python",
   "name": "python3"
  },
  "language_info": {
   "codemirror_mode": {
    "name": "ipython",
    "version": 3
   },
   "file_extension": ".py",
   "mimetype": "text/x-python",
   "name": "python",
   "nbconvert_exporter": "python",
   "pygments_lexer": "ipython3",
   "version": "3.9.19"
  }
 },
 "nbformat": 4,
 "nbformat_minor": 2
}
